{
  "nbformat": 4,
  "nbformat_minor": 0,
  "metadata": {
    "colab": {
      "provenance": [],
      "authorship_tag": "ABX9TyPZush+Kp1sHCxgGNskqAsS",
      "include_colab_link": true
    },
    "kernelspec": {
      "name": "python3",
      "display_name": "Python 3"
    },
    "language_info": {
      "name": "python"
    }
  },
  "cells": [
    {
      "cell_type": "markdown",
      "metadata": {
        "id": "view-in-github",
        "colab_type": "text"
      },
      "source": [
        "<a href=\"https://colab.research.google.com/github/emilyberlinghoff/CS2209/blob/main/Assignment%203.ipynb\" target=\"_parent\"><img src=\"https://colab.research.google.com/assets/colab-badge.svg\" alt=\"Open In Colab\"/></a>"
      ]
    },
    {
      "cell_type": "markdown",
      "source": [
        "# Question 6\n",
        "1. Romeo loves all females\n",
        "2. No females love Romeo.\n",
        "3. Juliet is female.\n",
        "\n",
        "∴ Romeo loves someone who doesn't love him.\n",
        "\n",
        "## Translate to WFFs\n",
        "\n",
        "## S/I rules strictly\n",
        "\n",
        "## Resolution"
      ],
      "metadata": {
        "id": "ODzaUZ5MEYzS"
      }
    },
    {
      "cell_type": "markdown",
      "source": [
        "# Question 18\n",
        "1. For every positive contigent truth, something explains why it's true.\n",
        "2. The existence of the world is a positive contigent truth.\n",
        "3. If something explains the existence of the world, then some necessary being explains the existence of the world.\n",
        "\n",
        "∴ Some necessary being explians the existence of the world.\n",
        "\n",
        "## Translate to WFFs\n",
        "\n",
        "## S/I rules strictly\n",
        "\n",
        "## Resolution"
      ],
      "metadata": {
        "id": "0MmHfxfKFs-B"
      }
    }
  ]
}