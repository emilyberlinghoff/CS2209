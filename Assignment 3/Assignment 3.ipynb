{
  "nbformat": 4,
  "nbformat_minor": 0,
  "metadata": {
    "colab": {
      "provenance": [],
      "authorship_tag": "ABX9TyO+nUIANBkyM1vSrXqz5Sxd",
      "include_colab_link": true
    },
    "kernelspec": {
      "name": "python3",
      "display_name": "Python 3"
    },
    "language_info": {
      "name": "python"
    }
  },
  "cells": [
    {
      "cell_type": "markdown",
      "metadata": {
        "id": "view-in-github",
        "colab_type": "text"
      },
      "source": [
        "<a href=\"https://colab.research.google.com/github/emilyberlinghoff/CS2209/blob/main/Assignment%203/Assignment%203.ipynb\" target=\"_parent\"><img src=\"https://colab.research.google.com/assets/colab-badge.svg\" alt=\"Open In Colab\"/></a>"
      ]
    },
    {
      "cell_type": "markdown",
      "source": [
        "# Question 6\n",
        "1. Romeo loves all females\n",
        "2. No females love Romeo.\n",
        "3. Juliet is female.\n",
        "\n",
        "  ∴ Romeo loves someone who doesn't love him.\n",
        "\n",
        "## Translate to WFFs\n",
        "1. $(x)(Fx ⊃ Lrx)$\n",
        "2. $(x)(Fx ⊃ \\sim Lxr)$\n",
        "3. $Fj$\n",
        "\n",
        "  ∴ $(∃x)(Lrx • \\sim Lxr)$\n",
        "\n",
        "## S/I rules strictly\n",
        "4. ASM: $\\sim (∃x)(Lrx • \\sim Lxr)$\n",
        "5. ∴ $(x) \\sim (Lrx • \\sim Lxr)$ {from 4}\n",
        "6. ∴ $(Fj ⊃ Lrj)$ {from 1}\n",
        "7. ∴ $Lrj$ {from 6}\n",
        "8. ∴ $(Fj ⊃ \\sim Ljr)$ {from 2}\n",
        "9. ∴ $\\sim Ljr$ {from 3 and 8}\n",
        "10. ∴ $\\sim (Lrj • \\sim Ljr)$ {from 5}\n",
        "11. ∴ $Ljr$ {from 7 and 10}\n",
        "12. ∴ $(∃x)(Lrx • \\sim Lxr)$ {from 4; 9 contradicts 11}\n",
        "\n",
        "## Resolution\n",
        "\n",
        "1. $(x)(Fx ⊃ Lrx)$\n",
        "  - $(x)(\\sim Fx \\vee Lrx)$\n",
        "  - Clauses:\n",
        "    - {$\\sim Fx$, $Lrx$}\n",
        "2. $(x)(Fx ⊃ \\sim Lxr)$\n",
        "  - $(x)(\\sim Fx \\vee \\sim Lxr)$\n",
        "  - Claues:\n",
        "    - {$\\sim Fx$, $\\sim Lxr$}\n",
        "3. $Fj$\n",
        "  - Clauses:\n",
        "    $Fj$\n",
        "4. ASM: $\\sim (∃x)(Lrx • \\sim Lxr)$\n",
        "5. ∴ $(x) \\sim (Lrx • \\sim Lxr)$ {from 4}\n",
        "6. ∴ $(x)(\\sim Lrx \\vee Lxr)$\n",
        "  - Clauses:\n",
        "    - {$\\sim Lrx$, $Lxr$}\n",
        "- Substitute $x=j$:\n",
        "  - {$\\sim Fj$, $Lrj$} {from 1}\n",
        "  - {$\\sim Fj$, $\\sim Ljr$} {from 2}\n",
        "  - {$\\sim Lrj$, $Ljr$} {from 6}\n",
        "- Resolving $Fj$ with {$\\sim Fj$, $Lrj$} gives $Lrj$\n",
        "- Resolving $Fj$ with {$\\sim Fj$, $\\sim Ljr$} gives $\\sim Ljr$\n",
        "- Resolving $Lrj$ with $\\sim Ljr$ gives empty clause"
      ],
      "metadata": {
        "id": "ODzaUZ5MEYzS"
      }
    },
    {
      "cell_type": "markdown",
      "source": [
        "# Question 18\n",
        "1. For every positive contigent truth, something explains why it's true.\n",
        "2. The existence of the world is a positive contigent truth.\n",
        "3. If something explains the existence of the world, then some necessary being explains the existence of the world.\n",
        "\n",
        "  ∴ Some necessary being explains the existence of the world.\n",
        "\n",
        "## Translate to WFFs\n",
        "1. $(x)(Cx ⊃ (∃y)Exy)$\n",
        "2. $Ce$\n",
        "3. $(∃x)Exe ⊃ (∃x)(Nx • Exe)$\n",
        "\n",
        "  ∴ $(∃x)(Nx • Exe)$\n",
        "\n",
        "## S/I rules strictly\n",
        "4. ASM: $\\sim (∃x)(Nx • Exe)$\n",
        "5. ∴ $(x) \\sim (Nx • Exe)$ {from 4}\n",
        "6. ∴ $\\sim (∃x)Exe$ {from 3 and 4}\n",
        "7. ∴ $(x) \\sim Exe$ {from 6}\n",
        "8. ∴ $(Ce ⊃ (∃y)Eye)$ {from 1}\n",
        "9. ∴ $(∃y)Eye$ {from 2 and 8}\n",
        "10. ∴ $Eae$ {from 9}\n",
        "11. ∴ $(Ca ⊃ (∃y)Eya)$ {from 1}\n",
        "12. ∴ $\\sim (Na • Eae)$ {from 5}\n",
        "13. ∴ $\\sim Na$ {from 10 and 12}\n",
        "14. ∴ $\\sim (Ne • Eee)$ {from 5}\n",
        "15. ∴ $\\sim Eae$ {from 7}\n",
        "16. ∴ $(∃x)(Nx • Exe)$ {from 4; 10 contradicts 15}\n",
        "\n",
        "## Resolution\n",
        "1. $(x)(Cx ⊃ (∃y)Exy)$\n",
        "  - $(x)(\\sim Cx \\vee (∃y)Exy)$\n",
        "  - Clauses:\n",
        "    - {$\\sim Cx, Exy$}\n",
        "2. $Ce$\n",
        "  - Clauses:\n",
        "    - {$Ce$}\n",
        "3. $(∃x)Exe ⊃ (∃x)(Nx • Exe)$\n",
        "  - $\\sim (∃x)Exe \\vee (∃x)(Nx • Exe)$\n",
        "  - $(x) \\sim Exe \\vee (∃x)(Nx • Exe)$\n",
        "  - $(x) \\sim Exe \\vee (∃x)Nx • (x) \\sim Exe \\vee (∃x)Exe$\n",
        "  - Clauses:\n",
        "    - {$\\sim Exe, Nx$}\n",
        "    - {$\\sim Exe, Exe$}\n",
        "4. ASM: $\\sim (∃x)(Nx • Exe)$\n",
        "  - $(x) \\sim (Nx • Exe)$\n",
        "  - $(x) (\\sim Nx \\vee \\sim Exe)$\n",
        "  - Claues:\n",
        "    - {$\\sim Nx \\vee \\sim Exe$}\n",
        "\n",
        "- Substitute $x=e$:\n",
        "  - {$\\sim Ce, Eey$} {from 1}\n",
        "  - {$\\sim Eee, Ne$} {from 3}\n",
        "  - {$\\sim Eee, Eee$} {from 3}\n",
        "  - {$\\sim Ne \\vee \\sim Eee$} {from 4}\n",
        "- Resolving {$\\sim Ce, Eey$} with $Ce$ gives $Eey$\n",
        "- Substitute $y=e$:\n",
        "  - {$\\sim Ce, Eee$} {from 1}\n",
        "  - $Eee$\n",
        "- Resolving {$\\sim Eee, Ne$} with $Eee$ gives $Ne$\n",
        "- Resolving {$\\sim Eee, Eee$} with $Eee$ gives $Eee$\n",
        "- Resolving {$\\sim Ne \\vee \\sim Eee$} with $Eee$ gives $\\sim Ne$\n",
        "- Resolving $Ne$ with $\\sim Ne$ gives empty clause"
      ],
      "metadata": {
        "id": "0MmHfxfKFs-B"
      }
    }
  ]
}