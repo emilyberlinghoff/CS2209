{
  "nbformat": 4,
  "nbformat_minor": 0,
  "metadata": {
    "colab": {
      "provenance": [],
      "authorship_tag": "ABX9TyMLWe4FmBnQMWJZbXfypoyC",
      "include_colab_link": true
    },
    "kernelspec": {
      "name": "python3",
      "display_name": "Python 3"
    },
    "language_info": {
      "name": "python"
    }
  },
  "cells": [
    {
      "cell_type": "markdown",
      "metadata": {
        "id": "view-in-github",
        "colab_type": "text"
      },
      "source": [
        "<a href=\"https://colab.research.google.com/github/emilyberlinghoff/CS2209/blob/main/Assignment%203/Assignment%203.ipynb\" target=\"_parent\"><img src=\"https://colab.research.google.com/assets/colab-badge.svg\" alt=\"Open In Colab\"/></a>"
      ]
    },
    {
      "cell_type": "markdown",
      "source": [
        "# Question 6\n",
        "1. Romeo loves all females\n",
        "2. No females love Romeo.\n",
        "3. Juliet is female.\n",
        "\n",
        "  ∴ Romeo loves someone who doesn't love him.\n",
        "\n",
        "## Translate to WFFs\n",
        "1. $(x)(Fx ⊃ Lrx)$\n",
        "2. $(x)(Fx ⊃ \\sim Lxr)$\n",
        "3. $Fj$\n",
        "\n",
        "  ∴ $(∃x)(Lrx • \\sim Lxr)$\n",
        "\n",
        "## S/I rules strictly\n",
        "4. ASM: $\\sim (∃x)(Lrx • \\sim Lxr)$\n",
        "5. ∴ $(x) \\sim (Lrx • \\sim Lxr)$ {from 4}\n",
        "6. ∴ $(Fj ⊃ Lrj)$ {from 1}\n",
        "7. ∴ $Lrj$ {from 6}\n",
        "8. ∴ $(Fj ⊃ \\sim Ljr)$ {from 2}\n",
        "9. ∴ $\\sim Ljr$ {from 8}\n",
        "10. ∴ $\\sim (Lrj • \\sim Ljr)$ {from 5}\n",
        "11. ∴ $Ljr$ {from 7 and 10; 9 contradicts 11}\n",
        "12. ∴ $(∃x)(Lrx • \\sim Lxr)$\n",
        "\n",
        "## Resolution"
      ],
      "metadata": {
        "id": "ODzaUZ5MEYzS"
      }
    },
    {
      "cell_type": "markdown",
      "source": [
        "# Question 18\n",
        "1. For every positive contigent truth, something explains why it's true.\n",
        "2. The existence of the world is a positive contigent truth.\n",
        "3. If something explains the existence of the world, then some necessary being explains the existence of the world.\n",
        "\n",
        "∴ Some necessary being explians the existence of the world.\n",
        "\n",
        "## Translate to WFFs\n",
        "\n",
        "## S/I rules strictly\n",
        "\n",
        "## Resolution"
      ],
      "metadata": {
        "id": "0MmHfxfKFs-B"
      }
    }
  ]
}