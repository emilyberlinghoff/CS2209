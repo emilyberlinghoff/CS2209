{
  "cells": [
    {
      "cell_type": "markdown",
      "metadata": {
        "id": "MjMYUJFkMjVc"
      },
      "source": [
        "# Question 1 output\n",
        "![q1](q1.png)\n",
        "\n",
        "# Question 2 output\n",
        "![q2](q2.png)\n",
        "\n",
        "# Question 3 output\n",
        "![q3](q3.png)"
      ]
    }
  ],
  "metadata": {
    "colab": {
      "provenance": []
    },
    "kernelspec": {
      "display_name": "Python 3",
      "name": "python3"
    },
    "language_info": {
      "name": "python"
    }
  },
  "nbformat": 4,
  "nbformat_minor": 0
}
