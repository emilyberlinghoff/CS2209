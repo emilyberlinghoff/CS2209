{
  "nbformat": 4,
  "nbformat_minor": 0,
  "metadata": {
    "colab": {
      "provenance": [],
      "authorship_tag": "ABX9TyM6Hvr153nBKx9qPZKoypzj",
      "include_colab_link": true
    },
    "kernelspec": {
      "name": "python3",
      "display_name": "Python 3"
    },
    "language_info": {
      "name": "python"
    }
  },
  "cells": [
    {
      "cell_type": "markdown",
      "metadata": {
        "id": "view-in-github",
        "colab_type": "text"
      },
      "source": [
        "<a href=\"https://colab.research.google.com/github/emilyberlinghoff/CS2209/blob/main/Homework%204/proofs.ipynb\" target=\"_parent\"><img src=\"https://colab.research.google.com/assets/colab-badge.svg\" alt=\"Open In Colab\"/></a>"
      ]
    },
    {
      "cell_type": "markdown",
      "source": [
        "# Proofs\n",
        "## Question 13\n",
        "### Question\n",
        "1. $(x)(y)(z)((Lxy \\cdot Lyz) \\supset Lxz)$\n",
        "2. $(x)(y)(Kxy \\supset Lyx)$\n",
        "\n",
        "  $\\therefore (x)Lxx$\n",
        "\n",
        "### S/I rules strictly\n",
        "3. ASM: $\\sim (x)Lxx$\n",
        "  4. $\\therefore(\\exists x)\\sim Lxx$ {from 3}\n",
        "  5. $\\therefore\\sim Laa$ {from 4}\n",
        "  6. $\\therefore(y)(z)((Lay \\cdot Lyz) \\supset Laz)$ {from 1}\n",
        "  7. $\\therefore(z)((Laa \\cdot Laz) \\supset Laz)$ {from 6}\n",
        "  8. $\\therefore((Laa \\cdot Laa) \\supset Laa)$ {from 7}\n",
        "  9. $\\therefore(y)(Kay \\supset Lya)$ {from 2}\n",
        "  10. $\\therefore(Kaa \\supset Laa)$ {from 9}\n",
        "  11. $\\therefore\\sim Kaa$ {from 5 and 10}\n",
        "\n",
        "REFUTE\n",
        "\n",
        "### Resolution proof\n",
        "1. $(x)(y)(z)((Lxy \\cdot Lyz) \\supset Lxz)$\n",
        "2. $(x)(y)(Kxy \\supset Lyx)$\n",
        "\n",
        "  $\\therefore (x)Lxx$\n",
        "\n",
        "## Question 15\n",
        "### Question\n",
        "1. $(x)(y)(Lxy \\supset (Fx \\cdot \\sim Fy))$\n",
        "  \n",
        "  $\\therefore (x)(y)(Lxy \\supset \\sim Lyx)$\n",
        "\n",
        "### S/I rules strictly\n",
        "2. ASM: $\\sim (x)(y)(Lxy \\supset \\sim Lyx)$\n",
        "  3. $\\therefore(\\exists x)\\sim(y)(Lxy \\supset \\sim Lyx)$ {from 2}\n",
        "  4. $\\therefore\\sim(y)(Lay \\supset \\sim Lya)$ {from 3}\n",
        "  5. $\\therefore(\\exists y)\\sim(Lay \\supset \\sim Lya)$ {from 4}\n",
        "  6. $\\therefore\\sim(Lab \\supset \\sim Lba)$ {from 5}\n",
        "  7. $\\therefore Lab$ {from 6}\n",
        "  8. $\\therefore Lba$ {from 6}\n",
        "  9. $\\therefore(y)(Lay \\supset (Fa \\cdot \\sim Fy))$ {from 1}\n",
        "  10. $\\therefore(y)(Lby \\supset (Fb \\cdot \\sim Fy))$ {from 1}\n",
        "  11. $\\therefore(Lab \\supset (Fa \\cdot \\sim Fb))$ {from 9}\n",
        "  12. $\\therefore(Lba \\supset (Fb \\cdot \\sim Fa))$ {from 10}\n",
        "  13. $\\therefore(Fa \\cdot \\sim Fb)$ {from 7 and 11}\n",
        "  14. $\\therefore(Fb \\cdot \\sim Fa)$ {from 12}\n",
        "  15. $\\therefore Fa$ {from 13}\n",
        "  16. $\\therefore\\sim Fb$ {from 13}\n",
        "  17. $\\therefore Fb$ {from 14}\n",
        "3. $\\therefore (x)(y)(Lxy \\supset \\sim Lyx)$ {16 contradicts 17}"
      ],
      "metadata": {
        "id": "JPFz4jB6dGfS"
      }
    }
  ]
}